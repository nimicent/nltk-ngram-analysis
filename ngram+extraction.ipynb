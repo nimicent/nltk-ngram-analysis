{
 "cells": [
  {
   "cell_type": "code",
   "execution_count": 8,
   "metadata": {
    "collapsed": true
   },
   "outputs": [],
   "source": [
    "import nltk\n",
    "import pandas as pd\n",
    "import numpy as np\n",
    "import re\n",
    "from nltk.tokenize import RegexpTokenizer, word_tokenize, sent_tokenize\n",
    "from nltk.corpus import stopwords\n",
    "from nltk.util import ngrams"
   ]
  },
  {
   "cell_type": "code",
   "execution_count": 37,
   "metadata": {},
   "outputs": [
    {
     "name": "stdout",
     "output_type": "stream",
     "text": [
      "no useless measurements:  ['waiting', 'weather', 'wind', 'high', 'operate', 'overhead', 'crane', 'rjob', 'suspended', 'waiting', 'weather', 'ropen', 'dhsv', 'pressure', 'tbg', 'close', 'dhsv', 'bleed', 'tbg', 'inflow', 'test', 'dhsv', 'pressure', 'increase', 'min', 'test', 'waiting', 'weather', 'wind', 'high', 'operate', 'overhead', 'crane', 'robserve', 'tbg', 'press', 'verify', 'dhsv', 'integrity', 'press', 'stable', 'rat', 'hrs', 'pressure', 'tbg', 'glycol', 'pump', 'cycle', 'close', 'dhsv', 'bleed', 'tbg', 'press', 'verify', 'dhsv', 'holding', 'pressure', 'pressure', 'stable', 'test', 'ropen', 'dhsv', 'pressure', 'tbg', 'cykle', 'close', 'dhsv', 'bleed', 'tbg', 'inflow', 'test', 'dhsv', 'pressure', 'increase', 'min', 'increase', 'next', 'min', 'test', 'close', 'well', 'attempt', 'test', 'dhsv', 'go', 'rcycle', 'dhsv', 'several', 'times', 'retest', 'starts', 'improving', 'leaking', 'min', 'rcycle', 'dhsv', 'several', 'times', 'retest', 'dhsv', 'holding', 'pressure', 'diff', 'run', 'pressure', 'dhsv', 'control', 'line', 'pressure', 'tbg', 'observe', 'increase', 'bhg', 'rrih', 'rondel', 'brush', 'set', 'wlm', 'pick', 'back', 'set', 'wlm', 'worked', 'brush', 'past', 'dhsv', 'brushed', 'entire', 'dhsv', 'assembly', 'pooh', 'fill', 'rig', 'meg', 'leak', 'test', 'hold', 'well', 'control', 'drill', 'establish', 'db', 'rig', 'line', 'convert', 'braided', 'line', 'lift', 'lub', 'toolstring', 'rondel', 'brush', 'cykle', 'trdhsv', 'cl', 'pressure', 'rclose', 'inflow', 'test', 'trdhsv', 'able', 'close', 'trdhsv', 'cykle', 'trdhsv', 'ml', 'return', 'rpressur', 'tbg', 'cykle', 'trdhsv', 'times', 'bleed', 'tbg', 'trdhsv', 'leaking', 'rcykle', 'trdhsv', 'times', 'close', 'trdhsv', 'rbleed', 'tbg', 'close', 'bleed', 'trdhsv', 'leaking', 'increase', 'whp', 'injecting', 'glycol', 'mix', 'rclose', 'inflow', 'test', 'trdhsv', 'able', 'close', 'trdhsv', 'wait', 'weather', 'convert', 'line', 'wind', 'limits', 'operating', 'overhead', 'crane', 'wow', 'rig', 'lubricator', 'wait', 'weather', 'unable', 'rig', 'well', 'due', 'wind', 'limitation', 'gantry', 'crane', 'waiting', 'weather', 'next', 'operation', 'install', 'xmt', 'stop', 'building', 'slb', 'electrical', 'finish', 'working', 'head', 'cran', 'scaffolding', 'need', 'removed', 'wind', 'speed', 'picking', 'head', 'crane', 'must', 'secured', 'halliburton', 'fmc', 'finish', 'work', 'well', 'head', 'hrs', 'slb', 'completion', 'start', 'fiber', 'optic', 'need', 'give', 'priority', 'work', 'overhead', 'crane', 'build', 'scafolding', 'give', 'acces', 'electrical', 'repair', 'need', 'crane', 'ready', 'morow', 'install', 'xmt', 'slb', 'fiber', 'waiting', 'scafolding', 'rebuild', 'work', 'fiber', 'start', 'bad', 'weather', 'comming', 'afternoone', 'fiber', 'done', 'night', 'waitng', 'weather', 'install', 'xmt', 'anyway', 'wait', 'mi', 'test', 'upc', 'work', 'permits', 'taken', 'inn', 'isolate', 'top', 'drive', 'torque', 'wrench', 'pipe', 'handler', 'open', 'position', 'able', 'make', 'hp', 'riser', 'pulling', 'assy', 'tds', 'iron', 'roughneck', 'tbt', 'prior', 'isolate', 'pipe', 'handler', 'troubleshoot', 'leak', 'found', 'psv', 'leaking', 'cement', 'unit', 'adjust', 'psv', 'rcont', 'troubleshoot', 'tds', 'torque', 'wrench', 'assy', 'cont', 'troubleshoot', 'tds', 'torque', 'wrench', 'assy', 'meanwhile', 'flush', 'bop', 'control', 'hoses', 'aeg', 'testing', 'main', 'emergency', 'ups', 'rig', 'got', 'total', 'black', 'hrs', 'also', 'shut', 'elds', 'platform', 'back', 'normal', 'operation', 'hrs', 'malfunction', 'dump', 'valve', 'odfjell', 'casing', 'tong', 'rone', 'connection', 'overtorqued', 'rdiscussed', 'onshore', 'completion', 'lead', 'duty', 'tenaris', 'rbreak', 'tubing', 'joint', 'replace', 'new', 'joint', 'struggling', 'break', 'connections', 'casing', 'tong', 'unable', 'break', 'connections', 'change', 'dies', 'tong', 'adjust', 'breake', 'odfjell', 'tong', 'repair', 'damaged', 'hydraulic', 'fittings', 'pdm', 'observed', 'damaged', 'box', 'wash', 'pipe', 'lay', 'joint', 'pick', 'replacement', 'joint', 'recover', 'liner', 'stand', 'leaning', 'derrick', 'hold', 'tbt', 'recover', 'liner', 'stand', 'derrick', 'observe', 'incr', 'standpipe', 'pressure', 'stop', 'pumps', 'pick', 'btm', 'maintain', 'rnote', 'observe', 'mwd', 'impeller', 'incr', 'indicating', 'internal', 'restriction', 'possible', 'partial', 'plugged', 'reamer', 'nozzel', 'restablish', 'flow', 'higher', 'vs', 'scr', 'keep', 'flow', 'long', 'pressure', 'decrease', 'wash', 'restriction', 'incr', 'flow', 'steps', 'drlg', 'flow', 'repair', 'broken', 'hydraulic', 'hose', 'ps', 'slips', 'check', 'strainer', 'mp', 'liter', 'lcm', 'break', 'circulation', 'ecd', 'wash', 'tag', 'td', 'md', 'rrecord', 'rot', 'weight', 'klbs', 'continue', 'rih', 'bha', 'dp', 'establish', 'circulation', 'rotation', 'pull', 'bit', 'depth', 'shoulder', 'test', 'reamer', 'hole', 'shoe', 'observe', 'torque', 'increase', 'kft', 'lbs', 'rih', 'bha', 'dp', 'fill', 'pipe', 'every', 'enter', 'open', 'hole', 'md', 'change', 'inserts', 'bx', 'xo', 'connect', 'td', 'fill', 'pipe', 'rih', 'bha', 'dp', 'td', 'fill', 'pipe', 'rshallow', 'test', 'mwd', 'good', 'test', 'rih', 'bha', 'dp', 'change', 'masterbushing', 'ps', 'rih', 'bha', 'hwdp', 'rre', 'run', 'bha', 'dressed', 'pulser', 'impeller', 'sub', 'new', 'clean', 'screen', 'sub', 'new', 'geotap', 'probe', 'seal', 'install', 'radioactive', 'sources', 'assy', 'pull', 'bha', 'clear', 'source', 'ports', 'pump', 'test', 'rhino', 'reamer', 'observe', 'flow', 'nozzels', 'flow', 'pump', 'observe', 'arms', 'open', 'tape', 'broken', 'rable', 'read', 'mwd', 'tool', 'impeller', 'reamer', 'previous', 'run', 'dress', 'nozzels', 'attach', 'tape', 'around', 'reamer', 'arms', 'bha', 'rih', 'reamer', 'assembly', 'rih', 'bha', 'pump', 'higher', 'pressure', 'expected', 'fluctuation', 'rnot', 'able', 'open', 'reamer', 'arms', 'pull', 'plug', 'mwd', 'tools', 'program', 'initalize', 'tools', 'pooh', 'get', 'geotap', 'probe', 'surface', 'rchange', 'geotap', 'pad', 'seal', 'tds', 'reamer', 'assembly', 'rih', 'change', 'nozzels', 'reamer', 'due', 'old', 'plugged', 'torque', 'seal', 'particles', 'previous', 'clear', 'screensub', 'rih', 'rchange', 'inserts', 'elevator', 'new', 'pulser', 'dressed', 'previous', 'run', 'rinspect', 'ils', 'connection', 'rih', 'function', 'test', 'shear', 'ram', 'whilst', 'rih', 'overs', 'rmeanwhile', 'flush', 'lines', 'trough', 'downlink', 'ensure', 'big', 'particles', 'torque', 'seal', 'skid', 'tds', 'string', 'pump', 'bit', 'string', 'clear', 'pulser', 'screen', 'sub', 'roller', 'reamer', 'assembly', 'last', 'run', 'pieces', 'lay', 'rih', 'pulser', 'sub', 'disconnect', 'pump', 'pulser', 'sub', 'read', 'mwd', 'tools', 'shut', 'tds', 'attempt', 'pump', 'function', 'test', 'mwd', 'tools', 'observe', 'pressure', 'stop', 'pumps', 'plug', 'string', 'likely', 'plugged', 'pulser', 'mwd', 'impeller', 'flush', 'standpipe', 'surface', 'lines', 'new', 'clean', 'mud', 'pit', 'change', 'mud', 'tript', 'tanks', 'roffline', 'clean', 'active', 'mud', 'mesh', 'screens', 'filter', 'big', 'particles', 'torque', 'seal', 'enter', 'inspect', 'activ', 'pit', 'found', 'bolt', 'ea', 'nuts', 'likely', 'agitator', 'ppb', 'lcm', 'kept', 'mud', 'system', 'pooh', 'surface', 'inspect', 'bit', 'observe', 'bit', 'draining', 'nozzels', 'plugged', 'bit', 'inspect', 'bit', 'new', 'rbit', 'grading', 'wt', 'pp', 'inspect', 'screen', 'sub', 'able', 'retrieve', 'screen', 'insert', 'sub', 'string', 'lay', 'rhino', 'reamer', 'roller', 'reamer', 'inspect', 'found', 'nozzels', 'plugged', 'torque', 'seal', 'particles', 'blanc', 'reamer', 'grading', 'wt', 'pn', 'pp', 'remove', 'radioactive', 'sources', 'continue', 'pooh', 'bha', 'pull', 'ps', 'install', 'master', 'bushing', 'continue', 'pooh', 'wet', 'bha', 'flowcheck', 'prior', 'pull', 'bha', 'well', 'stable', 'continue', 'pooh', 'wet', 'bha', 'measure', 'lcm', 'concentration', 'ppb', 'mud', 'inside', 'dp', 'pooh', 'bha', 'change', 'handling', 'equipment', 'pooh', 'bha', 'acc', 'covr', 'simulation', 'pump', 'slug', 'chase', 'slug', 'took', 'long', 'time', 'fall', 'place', 'due', 'restrictions', 'inside', 'drill', 'string', 'cont', 'pump', 'bha', 'acc', 'covr', 'simulation', 'flow', 'check', 'well', 'static', 'pump', 'partly', 'plugged', 'bha', 'acc', 'covr', 'simulation', 'enter', 'inside', 'liner', 'md', 'pump', 'partly', 'plugged', 'bha', 'acc', 'covr', 'simulation', 'flow', 'check', 'well', 'static', 'tbt', 'focus', 'mwd', 'tool', 'limitation', 'high', 'pressure', 'rattempt', 'unplug', 'bit', 'nozzels', 'applying', 'pressure', 'success', 'mud', 'pumps', 'back', 'online', 'record', 'new', 'scr', 'rattempt', 'unplug', 'bit', 'nozzels', 'applying', 'pressure', 'observe', 'pressure', 'fluctuation', 'stable', 'flow', 'stop', 'pumps', 'evaluate', 'options', 'rnote', 'unable', 'start', 'mwd', 'tools', 'likely', 'due', 'lower', 'flow', 'tools', 'observe', 'tool', 'pulsing', 'stopped', 'pulsing', 'pressure', 'build', 'lost', 'suction', 'mud', 'pump', 'isolate', 'check', 'suction', 'strainers', 'mud', 'pump', 'troubleshoot', 'mud', 'pump', 'issue', 'rrecover', 'cup', 'cuttings', 'cm', 'torque', 'seal', 'particles', 'strainers', 'switch', 'pumps', 'bring', 'mud', 'pump', 'online', 'observe', 'higher', 'pressure', 'compared', 'previous', 'drilling', 'parameters', 'rattempt', 'unplug', 'bit', 'nozzels', 'success', 'info', 'higher', 'pressure', 'corresponding', 'nozzels', 'bit', 'plugged', 'acc', 'simualtion', 'drilling', 'observe', 'rapid', 'drop', 'standpipe', 'pressure', 'lost', 'suction', 'mud', 'pump', 'stop', 'troubleshoot', 'mud', 'pump', 'issue', 'reset', 'mwd', 'without', 'pumps', 'reset', 'mwd', 'obtain', 'signals', 'increase', 'lost', 'signals', 'mwd', 'reset', 'tools', 'back', 'line', 'drilling', 'reservoir', 'md', 'rattempt', 'take', 'geotap', 'formation', 'pressure', 'point', 'rnot', 'able', 'communicate', 'mwd', 'tools', 'rsend', 'several', 'downlink', 'troubleshoot', 'nogo', 'rchange', 'nozzels', 'downlink', 'skid', 'nogo', 'rchange', 'nozzels', 'downlink', 'skid', 'nogo', 'rreduce', 'flow', 'able', 'get', 'communication', 'attempt', 'take', 'geotap', 'formation', 'pressure', 'point', 'rnot', 'able', 'send', 'downlink', 'communicate', 'mwd', 'tools', 'send', 'several', 'downlink', 'troubleshoot', 'nogo', 'continue', 'circ', 'condition', 'mud', 'gradually', 'increase', 'circulation', 'rate', 'max', 'circ', 'rate', 'mwd', 'spinner', 'mw', 'esd', 'ecd', 'observe', 'light', 'spots', 'returns', 'change', 'communication', 'card', 'bop', 'control', 'panel', 'function', 'test', 'bop', 'well', 'stable', 'flow', 'check', 'well', 'prior', 'changing', 'comunication', 'card', 'bop', 'control', 'panel', 'well', 'stable', 'continue', 'circ', 'btms', 'condition', 'mud', 'observe', 'mw', 'returns', 'gradually', 'increasing', 'due', 'barite', 'sag', 'low', 'pump', 'rate', 'rotation', 'nd', 'phase', 'drillers', 'method', 'rstart', 'losing', 'mud', 'barite', 'btm', 'screens', 'reduce', 'flow', 'rate', 'mw', 'stable', 'mw', 'gradually', 'dropping', 'back', 'ecd', 'lost', 'total', 'bbls', 'shakers', 'skip', 'rreciprocate', 'string', 'moving', 'moving', 'kft', 'lbs', 'open', 'upper', 'pipe', 'ram', 'rotate', 'string', 'free', 'kftlbs', 'stage', 'pumps', 'rotary', 'circ', 'btms', 'condition', 'mud', 'gradually', 'dropping', 'mw', 'stable', 'mw', 'ecd', 'gradually', 'dropping', 'reciprocate', 'string', 'moving', 'moving', 'kft', 'lbs', 'open', 'choke', 'flowcheck', 'flow', 'close', 'well', 'choke', 'monitor', 'pressure', 'build', 'none', 'pump', 'kill', 'mud', 'annulus', 'bit', 'surface', 'spm', 'holding', 'std', 'pipe', 'pressure', 'constant', 'per', 'drillers', 'method', 'pump', 'kill', 'mud', 'bit', 'spm', 'holding', 'csg', 'pressure', 'constant', 'per', 'drillers', 'method', 'tbt', 'prior', 'pump', 'kill', 'mud', 'increase', 'circulating', 'rate', 'spm', 'bpm', 'continue', 'circulate', 'influx', 'using', 'drillers', 'method', 'first', 'phace', 'keeping', 'constant', 'dp', 'pressure', 'record', 'gas', 'slowly', 'increasing', 'dropping', 'poor', 'boy', 'degasser', 'observe', 'mw', 'returns', 'dropped', 'strokes', 'btms', 'strokes', 'losses', 'formation', 'cont', 'circ', 'prepare', 'kill', 'mud', 'rclose', 'well', 'rafter', 'pumped', 'stroke', 'btms', 'strokes', 'mw', 'return', 'dropped', 'rthe', 'sample', 'show', 'increase', 'water', 'content', 'chlorides', 'also', 'dropped', 'circulate', 'influx', 'using', 'drillers', 'method', 'first', 'phace', 'keeping', 'constant', 'dp', 'pressure', 'spm', 'bpm', 'max', 'gas', 'poor', 'boy', 'degasser', 'observe', 'stable', 'sidpp', 'sicp', 'min', 'drilling', 'observe', 'gain', 'active', 'pits', 'minutes', 'space', 'bit', 'shut', 'well', 'upr', 'hrs', 'elds', 'ccr', 'shore', 'informed', 'immediately', 'record', 'sidpp', 'sicp', 'min', 'rih', 'change', 'leaking', 'wash', 'pipe', 'wash', 'pipe', 'rotating', 'hrs', 'perform', 'break', 'procedure', 'new', 'wash', 'pipe', 'pump', 'hole', 'kftlbs', 'change', 'leaking', 'hydraulic', 'coupling', 'bx', 'elevator', 'deisolate', 'equipment', 'prepare', 'start', 'operation', 'circulate', 'well', 'wo', 'decision', 'regarding', 'bop', 'control', 'panel', 'mw', 'esd', 'ecd', 'rmeanwhile', 'perform', 'rig', 'maintenance', 'housekeeping', 'rinspect', 'cameras', 'derrick', 'rinspect', 'kelly', 'hose', 'rinspect', 'service', 'fwd', 'aft', 'prs', 'rservice', 'inspect', 'cat', 'head', 'rcalibrate', 'choke', 'sensors', 'circulate', 'well', 'wo', 'decision', 'regarding', 'bop', 'control', 'panel', 'esd', 'ecd', 'rmeanwhile', 'perform', 'rig', 'maintenance', 'remove', 'remaining', 'weatherford', 'mpd', 'equipment', 'moon', 'pool', 'prepare', 'back', 'load', 'function', 'test', 'bop', 'dog', 'house', 'panel', 'perform', 'choke', 'drill', 'take', 'scr', 'readings', 'cont', 'troubleshoot', 'bop', 'control', 'systems', 'circ', 'rmeanwhile', 'perform', 'month', 'pm', 'aft', 'ir', 'electrical', 'month', 'pm', 'tds', 'measure', 'bearing', 'travel', 'tds', 'take', 'oil', 'sample', 'tds', 'gear', 'box', 'control', 'system', 'bop', 'shut', 'unable', 'run', 'functions', 'electrical', 'panels', 'unable', 'bleed', 'pressure', 'form', 'bop', 'control', 'panel', 'put', 'well', 'trip', 'tank', 'stable', 'bleed', 'pressure', 'manually', 'restart', 'bop', 'control', 'system', 'observe', 'communication', 'fault', 'server', 'plc', 'install', 'isolation', 'valve', 'csg', 'tong', 'due', 'use', 'manuel', 'slips', 'unable', 'close', 'ows', 'hydraulick', 'vipper', 'slips', 'troubleshoot', 'slips', 'amd', 'install', 'manual', 'slips', 'dog', 'collar', 'unable', 'close', 'ows', 'hydraulick', 'vipper', 'slips', 'troubleshoot', 'pump', 'hole', 'flowcheck', 'static', 'wash', 'section', 'td', 'circ', 'btms', 'kftlbs', 'ecd', 'esd', 'mw', 'max', 'gas', 'btms', 'pumped', 'rack', 'back', 'std', 'rih', 'pooh', 'bop', 'test', 'tool', 'install', 'ps', 'tbt', 'ongoing', 'crew', 'pooh', 'fpm', 'rih', 'engage', 'bop', 'test', 'tool', 'function', 'test', 'bop', 'electrical', 'panels', 'drill', 'floor', 'switchboard', 'room', 'ecc', 'troubleshoot', 'bop', 'control', 'system', 'replace', 'backpane', 'card', 'check', 'control', 'systems', 'install', 'bop', 'test', 'tool', 'rih', 'land', 'test', 'tool', 'wellhead', 'release', 'test', 'tool', 'pooh', 'troubleshoot', 'bop', 'control', 'system', 'working', 'send', 'downlinks', 'reset', 'vdr', 'tool', 'rih', 'wash', 'last', 'stand', 'td', 'repair', 'shot', 'pin', 'assy', 'top', 'drive', 'clean', 'drill', 'floor', 'pooh', 'shoe', 'slick', 'hole', 'observe', 'movement', 'issue', 'shot', 'pin', 'assy', 'top', 'drive', 'investigate', 'circ', 'repair', 'hts', 'troubleshoot', 'electrical', 'problem', 'change', 'bus', 'repair', 'calibrate', 'aft', 'prs', 'forward', 'prs', 'also', 'electrical', 'fault', 'circulate', 'influx', 'bpm', 'maintaining', 'starting', 'spp', 'unitl', 'influx', 'max', 'gas', 'poor', 'boy', 'bled', 'pressures', 'open', 'bop', 'circulate', 'influx', 'bpm', 'maintaining', 'starting', 'spp', 'unitl', 'influx', 'max', 'gas', 'poor', 'boy', 'bled', 'pressures', 'open', 'bop', 'line', 'pump', 'kill', 'annulus', 'attempt', 'bullhead', 'influx', 'perform', 'injectivity', 'test', 'pump', 'bpm', 'max', 'injectivity', 'shoe', 'line', 'pump', 'kill', 'annulus', 'attempt', 'bullhead', 'influx', 'perform', 'injectivity', 'test', 'pump', 'bpm', 'max', 'injectivity', 'shoe', 'pressure', 'string', 'sicp', 'circulate', 'stop', 'pump', 'bleed', 'spp', 'ensure', 'float', 'holding', 'pressure', 'spp', 'stable', 'float', 'holding', 'observe', 'well', 'leaking', 'around', 'pressure', 'string', 'sicp', 'circulate', 'stop', 'pump', 'bleed', 'spp', 'ensure', 'float', 'holding', 'pressure', 'spp', 'stable', 'float', 'holding', 'observe', 'well', 'leaking', 'around', 'shut', 'well', 'annular', 'monitor', 'well', 'initial', 'sicp', 'increase', 'slowly', 'sidpp', 'meanwhile', 'plan', 'way', 'forward', 'town', 'shut', 'well', 'annular', 'monitor', 'well', 'initial', 'sicp', 'increase', 'slowly', 'sidpp', 'meanwhile', 'plan', 'way', 'forward', 'town', 'observe', 'change', 'active', 'trend', 'perform', 'flowcheck', 'bph', 'gain', 'rate', 'observe', 'change', 'active', 'trend', 'perform', 'flowcheck', 'bph', 'gain', 'rate', 'spacer', 'enter', 'oh', 'observe', 'increase', 'spp', 'experienced', 'total', 'lost', 'returns', 'loss', 'spp', 'attempt', 'fill', 'annulus', 'mp', 'able', 'get', 'suction', 'line', 'cement', 'unit', 'fill', 'annulus', 'premix', 'triptank', 'pumps', 'smimulatniously', 'able', 'bump', 'plug', 'according', 'estimated', 'strokes', 'stopped', 'pumping', 'installed', 'sponge', 'balls', 'aid', 'dart', 'go', 'string', 'increase', 'displacement', 'rate', 'bpm', 'get', 'dart', 'moving', 'observe', 'dart', 'land', 'stk', 'string', 'stk', 'inserted', 'balls', 'increase', 'pressure', 'confirm', 'landed', 'correctly', 'managed', 'regain', 'fluid', 'level', 'surface', 'min', 'prior', 'land', 'dart', 'total', 'premix', 'pumped', 'total', 'losses', 'mud', 'logging', 'system', 'shut', 'troubleshoot', 'restart', 'calibrate', 'systems', 'flowcheck', 'well', 'min', 'circulate', 'well', 'experience', 'increased', 'spp', 'loss', 'string', 'weight', 'circulating', 'increase', 'ecd', 'indication', 'something', 'jammed', 'around', 'lower', 'part', 'bha', 'work', 'string', 'inside', 'casing', 'several', 'times', 'rack', 'back', 'singles', 'able', 'work', 'longer', 'distance', 'establish', 'circulation', 'additional', 'pressure', 'gone', 'troubleshoot', 'mwd', 'tools', 'due', 'able', 'communicate', 'downhole', 'tools', 'signal', 'came', 'back', 'circulating', 'waiting', 'ideas', 'town', 'establish', 'drilling', 'parameters', 'establish', 'drilling', 'parameters', 'break', 'geopilot', 'rwash', 'tag', 'cement', 'rih', 'bha', 'rfill', 'string', 'every', 'change', 'handling', 'equipment', 'rinstall', 'nc', 'dstj', 'pin', 'xt', 'box', 'crossover', 'rih', 'bha', 'dp', 'rfill', 'string', 'every', 'perform', 'shallow', 'test', 'mwd', 'rih', 'bha', 'dp', 'fill', 'string', 'install', 'autopipe', 'doper', 'remove', 'master', 'bushing', 'install', 'ps', 'slips', 'rih', 'bha', 'hwdp', 'test', 'program', 'mwd', 'pick', 'new', 'geopilot', 'assembly', 'rih', 'bha', 'lay', 'mwd', 'tools', 'geopilot', 'bit', 'plug', 'download', 'data', 'mwd', 'rtbt', 'prior', 'handle', 'bha', 'pooh', 'bha', 'clear', 'clean', 'rigfloor', 'rremove', 'ps', 'install', 'master', 'bushing', 'pooh', 'hwdp', 'flowcheck', 'static', 'rtbt', 'handling', 'bha', 'pooh', 'bha', 'dp', 'change', 'handling', 'equipment', 'rkickdrill', 'sec', 'pooh', 'bha', 'dp', 'flowcheck', 'pump', 'slug', 'attampt', 'regain', 'communication', 'mwd', 'tools', 'go', 'lost', 'communication', 'mwd', 'tools', 'rattempt', 'regain', 'communication', 'go', 'observe', 'rapid', 'increase', 'return', 'flow', 'shut', 'well', 'circulate', 'cement', 'max', 'choke', 'pressure', 'ronce', 'stable', 'active', 'circulate', 'fully', 'open', 'chokes', 'min', 'confirm', 'free', 'system', 'rperform', 'flowcheck', 'open', 'bop', 'use', 'drillers', 'method', 'circulate', 'cement', 'well', 'thru', 'open', 'choke', 'observe', 'increased', 'return', 'flow', 'well', 'rspace', 'close', 'upper', 'pipe', 'ram', 'sicp', 'rhold', 'tbt', 'vdr', 'problem', 'aft', 'prs', 'recalibrate', 'pipe', 'deck', 'machine', 'pdm', 'troubleshoot', 'problems', 'hts', 'troubleshoot', 'pls', 'card', 'halliburton', 'foam', 'cement', 'nitrogen', 'unit', 'success', 'black', 'screen', 'dead', 'rmobilize', 'computer', 'helicopter', 'west', 'linus', 'rinstall', 'check', 'rmeanwhile', 'circulate', 'bpm', 'rotate', 'rsome', 'cuttings', 'thick', 'muddy', 'fluid', 'bottom', 'screens', 'mud', 'return', 'rcirculate', 'bottoms', 'total', 'since', 'tagging', 'td', 'rno', 'mud', 'loss', 'circulating', 'full', 'return', 'rmax', 'gas', 'decreasing', 'break', 'circulation', 'wash', 'td', 'circulate', 'bottom', 'max', 'gas', 'mp', 'able', 'get', 'suction', 'esd', 'change', 'ibop', 'topdrive', 'rmove', 'string', 'break', 'circulation', 'frequently', 'avoid', 'stuck', 'drill', 'pipe', 'max', 'static', 'time', 'hr', 'rservice', 'mud', 'pump', 'troubleshoot', 'problems', 'operate', 'ibop', 'topdrive', 'problems', 'operate', 'ibop', 'topdrive', 'observe', 'pump', 'pressure', 'increase', 'rreduce', 'pump', 'rate', 'stage', 'pump', 'rate', 'back', 'observe', 'pump', 'pressure', 'increase', 'rreduce', 'pump', 'rate', 'stage', 'pump', 'rate', 'back', 'observe', 'pressure', 'increase', 'stop', 'mud', 'pumps', 'rclear', 'obstruction', 'gradually', 'increase', 'circulating', 'rate', 'observe', 'pressure', 'increase', 'stop', 'mud', 'pumps', 'rclear', 'obstruction', 'gradually', 'increase', 'circulating', 'rate', 'observe', 'pressure', 'spike', 'reduce', 'flow', 'rwork', 'string', 'clear', 'obstruction', 'stage', 'mud', 'pumps', 'rwork', 'string', 'back', 'pack', 'pressure', 'build', 'rshut', 'pumps', 'pull', 'slowly', 'btm', 'rstage', 'pump', 'rate', 'rmax', 'drill', 'gas', 'observe', 'pack', 'torque', 'increase', 'increasing', 'pump', 'rate', 'connection', 'rshut', 'pumps', 'establish', 'parameters', 'steps', 'first', 'steps', 'drilling', 'flow', 'rream', 'back', 'full', 'flow', 'open', 'hole', 'backream', 'stand', 'slowly', 'kft', 'lbs', 'initial', 'pack', 'area', 'ensure', 'hole', 'reamed', 'opened', 'rream', 'stand', 'back', 'kftlbs', 'torque', 'flow', 'rfull', 'returns', 'pack', 'offs', 'observed', 'clear', 'pack', 'tendencies', 'establish', 'parameters', 'pack', 'pressure', 'build', 'rshut', 'pumps', 'pull', 'slowly', 'btm', 'rwork', 'string', 'regain', 'circulation', 'stage', 'pump', 'rate', 'rwork', 'ream', 'string', 'td', 'backream', 'stand', 'slowly', 'kft', 'lbs', 'initial', 'pack', 'area', 'ensure', 'hole', 'reamed', 'opened', 'rream', 'stand', 'back', 'kft', 'lbs', 'flow', 'full', 'returns', 'pack', 'offs', 'observed', 'circulate', 'annulus', 'clean', 'clear', 'potential', 'pump', 'drill', 'gas', 'robserve', 'pump', 'gas', 'readings', 'drill', 'gas', 'return', 'drill', 'ahead', 'reduced', 'parameters', 'kft', 'lbs', 'rencounter', 'pack', 'rshut', 'pumps', 'mud', 'loss', 'pack', 'increase', 'rshut', 'pumps', 'pull', 'slowly', 'btm', 'rstage', 'parameters', 'steps', 'rdrill', 'ahead', 'encounter', 'another', 'pack', 'increase', 'shut', 'mud', 'pumps', 'rpressure', 'bleed', 'shut', 'pumps', 'klbs', 'overpull', 'pulling', 'mud', 'loss', 'change', 'back', 'normal', 'die', 'block', 'tds', 'pipehandler', 'changed', 'earlier', 'due', 'ows', 'crti', 'rinstall', 'bx', 'elevator', 'rotator', 'change', 'dies', 'pipehandler', 'tds', 'due', 'od', 'saversub', 'crti', 'tool', 'rnormal', 'od', 'dp', 'experience', 'sperry', 'server', 'problems', 'solve', 'rlost', 'mwd', 'signals', 'solve', 'rgyro', 'sleep', 'mode', 'restart', 'gyro', 'two', 'attempts', 'pick', 'bottom', 'circulate', 'due', 'slurry', 'system', 'overloaded', 'circ', 'evaluate', 'lot', 'problem', 'getting', 'last', 'pressure', 'test', 'standpipe', 'valves', 'pump', 'room', 'troubleshoot', 'attempt', 'release', 'fmc', 'conductor', 'rt', 'go', 'rshut', 'prior', 'disconnect', 'rt', 'rt', 'stuck', 'ropen', 'production', 'take', 'gyro', 'surveys', 'wash', 'td', 'rfunction', 'test', 'gyro', 'mwd', 'rih', 'bit', 'bha', 'rtag', 'klbs', 'weight', 'rm', 'topdrive', 'wash', 'thru', 'interval', 'rtight', 'spots', 'klbs', 'klbs', 'rbit', 'deck', 'notify', 'ccr', 'open', 'hrs', 'program', 'mwd', 'bha', 'rih', 'stand', 'prepare', 'new', 'gyro', 'tool', 'rat', 'time', 'rrelease', 'jacks', 'wellhead', 'sink', 'mm', 'west', 'side', 'mm', 'east', 'side', 'rmove', 'claxton', 'jack', 'frames', 'slot', 'rreroute', 'stimulation', 'lines', 'deck', 'get', 'access', 'hatch', 'slot', 'rwells', 'rnotify', 'ccr', 'open', 'wells', 'hrs', 'rwells', 'closed', 'hrs', 'prior', 'run', 'bit', 'bha', 'wellhead', 'cont', 'pooh', 'bha', 'surface', 'rlay', 'gyro', 'collar', 'rcheck', 'bearings', 'mud', 'motor', 'bit', 'load', 'mwd', 'tool', 'cont', 'pooh', 'rwash', 'bha', 'clean', 'hp', 'guns', 'passes', 'deck', 'rnote', 'notify', 'ccr', 'shut', 'well', 'hrs', 'prior', 'pull', 'bit', 'wellhead', 'tbt', 'pulling', 'bha', 'deck', 'levels', 'perform', 'drops', 'check', 'tds', 'findings', 'pooh', 'rtight', 'spots', 'rmax', 'klbs', 'wiped', 'rtop', 'well', 'kcl', 'polymer', 'mud', 'pooh', 'displace', 'well', 'kcl', 'polymer', 'mud', 'seabed', 'kftlbs', 'pull', 'back', 'continue', 'taking', 'gyro', 'check', 'shot', 'surveys', 'showing', 'different', 'azimuth', 'readings', 'rno', 'confidence', 'gyro', 'tool', 'rdiscuss', 'options', 'town', 'rcirculating', 'parameters', 'flow', 'rate', 'kft', 'lbs', 'rpump', 'frequently', 'hi', 'vis', 'sweeps', 'rnote', 'simultaneous', 'operation', 'well', 'intervention', 'stimulate', 'well', 'take', 'check', 'shot', 'gyro', 'survey', 'variation', 'gyro', 'azimut', 'surveys', 'deg', 'deg', 'retake', 'gyro', 'surveys']\n"
     ]
    }
   ],
   "source": [
    "df = pd.read_csv('/Users/jrnash/Downloads/juliacsv.csv')\n",
    "\n",
    "text = df.loc[:, \"Comments\"].values\n",
    "txt = str(text)\n",
    "\n",
    "#trying to get rid of 'r'\n",
    "# gg = df['Comments'].replace(regex=True,inplace=False,to_replace='\\\\r',value='')\n",
    "# gk = pd.DataFrame(gg)\n",
    "\n",
    "regex_token = RegexpTokenizer(r'[a-zA-Z]+')                    \n",
    "rx = regex_token.tokenize(txt)\n",
    "rx = [x.lower() for x in rx]\n",
    "line = [i for i in rx if len(i) > 1]\n",
    "stop_words = set(stopwords.words('english'))\n",
    "sw = [j for j in line if not j in stop_words]\n",
    "\n",
    "no_words = ['ft','psi', 'mph', 'inch','gpm','rpm','pbq','ppt']\n",
    "\n",
    "clean = [word for word in sw if word not in no_words]\n",
    "\n",
    "# as defined per measurements, I added a few. Maybe limit to only 3 character words?\n",
    "\n",
    "print ('no useless measurements: ', clean)\n",
    "    \n",
    "O = ngrams(clean,1)\n",
    "B = ngrams(clean,2)\n",
    "T = ngrams(clean,3)\n",
    "\n",
    "onegramlist = []\n",
    "bigramlist = []\n",
    "trigramlist = []\n",
    "\n",
    "def excel(onegrams, bigrams, trigrams):\n",
    "    for o in onegrams:\n",
    "        f = nltk.pos_tag(o)\n",
    "        onegramlist.append(f)\n",
    "        \n",
    "    for b in bigrams:\n",
    "        w = nltk.pos_tag(b)\n",
    "        bigramlist.append(w)  \n",
    "        \n",
    "    for t in trigrams:\n",
    "        s = nltk.pos_tag(t)\n",
    "        trigramlist.append(s)\n",
    "        \n",
    "        \n",
    "    return onegramlist, bigramlist,trigramlist\n",
    "\n",
    "\n",
    "onegrams_with_pos, bigrams_with_pos,trigrams_with_pos = excel(O, B, T)\n",
    "\n",
    "def is_onegram_valid(pos1):\n",
    "    if pos1 == \"NN\":\n",
    "        return True\n",
    "    else:\n",
    "        return False\n",
    "\n",
    "def is_bigram_valid(pos1,pos2):\n",
    "    if pos1 == \"VBG\" and pos2 == \"NN\":\n",
    "        return True\n",
    "    elif pos1 == \"NN\" and pos2 == \"NN\":\n",
    "        return True\n",
    "    else:\n",
    "        return False\n",
    "    \n",
    "def is_trigram_valid(pos1,pos2,pos3):\n",
    "    if pos1 == \"NN\" and pos2 == \"NN\" and pos3 == \"NN\":\n",
    "        return True\n",
    "    else:\n",
    "        return False\n",
    "    \n",
    "\n",
    "onegrams_without_pos =  [\" \".join([x[0][0]]) for x in onegrams_with_pos if is_onegram_valid(x[0][1])]\n",
    "bigrams_without_pos = [\" \".join([x[0],y[0]]) for x,y in bigrams_with_pos if is_bigram_valid(x[1],y[1])]\n",
    "trigrams_without_pos = [\" \".join([x[0],y[0],z[0]]) for x,y,z in trigrams_with_pos if is_trigram_valid(x[1],y[1],z[1])]\n",
    "\n",
    "\n",
    "max_length = max(len(onegrams_without_pos),len(bigrams_without_pos),len(trigrams_without_pos))\n",
    "\n",
    "onegram_result = onegrams_without_pos\n",
    "trigram_result = trigrams_without_pos\n",
    "bigram_result = bigrams_without_pos\n",
    "\n",
    "if len(bigrams_without_pos) <= max_length:\n",
    "    bigram_result = bigrams_without_pos + [\"\"]*(max_length-len(bigrams_without_pos))\n",
    "if len(onegrams_without_pos) <= max_length:\n",
    "    onegram_result = onegrams_without_pos + [\"\"]*(max_length-len(onegrams_without_pos))\n",
    "if len(trigrams_without_pos) <= max_length:\n",
    "    trigram_result = trigrams_without_pos + [\"\"]*(max_length-len(trigrams_without_pos))\n",
    "    \n",
    "# print(len(onegram_result))                                                 \n",
    "# print(len(bigram_result))\n",
    "# print(len(trigram_result))  \n",
    "\n",
    "result_df = pd.DataFrame({\"onegrams\":onegram_result,\"bigrams\":bigram_result,\"trigrams\":trigram_result})\n",
    "\n",
    "result_df.to_csv(\"umoranz.csv\")\n"
   ]
  },
  {
   "cell_type": "code",
   "execution_count": null,
   "metadata": {
    "collapsed": true
   },
   "outputs": [],
   "source": []
  }
 ],
 "metadata": {
  "kernelspec": {
   "display_name": "Python 3",
   "language": "python",
   "name": "python3"
  },
  "language_info": {
   "codemirror_mode": {
    "name": "ipython",
    "version": 3
   },
   "file_extension": ".py",
   "mimetype": "text/x-python",
   "name": "python",
   "nbconvert_exporter": "python",
   "pygments_lexer": "ipython3",
   "version": "3.6.1"
  }
 },
 "nbformat": 4,
 "nbformat_minor": 2
}
